{
 "cells": [
  {
   "cell_type": "markdown",
   "metadata": {},
   "source": [
    "# Graph\n",
    "\n",
    "Graph is a data structure that consists of following two components:\n",
    "1. A finite set of vertices also called as nodes.\n",
    "2. A finite set of ordered pair of the form (u, v) called as edge. The pair is ordered because (u, v) is not same as (v, u) in case of directed graph(di-graph). The pair of form (u, v) indicates that there is an edge from vertex u to vertex v. The edges may contain weight/value/cost.\n",
    "\n",
    "Graphs can be represented by two ways:\n",
    "1. **Adjacency Matrix:** <br>\n",
    "A two-dimensional matrix, in which the rows represent source vertices and columns represent destination vertices. Data on edges and vertices must be stored externally. Only the cost for one edge can be stored between each pair of vertices.\n",
    "\n",
    "2. **Adjacency List**: <br>\n",
    "Vertices are stored as records or objects, and every vertex stores a list of adjacent vertices. This data structure allows the storage of additional data on the vertices. Additional data can be stored if edges are also stored as objects, in which case each vertex stores its incident edges and each edge stores its incident vertices.\n",
    "\n",
    "*Note: AdjanceyList: Slow to remove vertices and edges, because it needs to find all vertices or edges\n",
    "AdjancyMatrix: Slow to add or remove vertices, because matrix must be resized/copied*\n",
    "\n",
    "# Applications\n",
    "1. Google maps uses graphs for building transportation systems, where intersection of two(or more) roads are considered to be a vertex and the road connecting two vertices is considered to be an edge, thus their navigation system is based on the algorithm to calculate the shortest path between two vertices.\n",
    "\n",
    "2. In Facebook, users are considered to be the vertices and if they are friends then there is an edge running between them. Facebook’s Friend suggestion algorithm uses graph theory.\n",
    "\n"
   ]
  },
  {
   "cell_type": "code",
   "execution_count": 22,
   "metadata": {},
   "outputs": [],
   "source": [
    "class graph_AdjancencyList():\n",
    "    def __init__(self):\n",
    "        self.graph = {}\n",
    "    \n",
    "    def addEdge(self, u, v):\n",
    "        #First check if vertex is already present or not\n",
    "        if u in self.graph.keys():\n",
    "            self.graph[u].append(v)\n",
    "            \n",
    "        #Lets create one if its not already present\n",
    "        else:\n",
    "            self.graph[u] = [v]\n",
    "        \n",
    "    def printgraph(self):\n",
    "        for i in self.graph.keys():\n",
    "            print(i,'->',*(self.graph[i]))\n",
    "            #* is just used to print the space separated elements of the list in 1 line without []"
   ]
  },
  {
   "cell_type": "code",
   "execution_count": 23,
   "metadata": {},
   "outputs": [],
   "source": [
    "#creating object\n",
    "g = graph_AdjancencyList()"
   ]
  },
  {
   "cell_type": "code",
   "execution_count": 24,
   "metadata": {},
   "outputs": [],
   "source": [
    "g.addEdge(1,2)\n",
    "g.addEdge(2,3)\n",
    "g.addEdge(3,4)\n",
    "g.addEdge(1,4)"
   ]
  },
  {
   "cell_type": "code",
   "execution_count": 25,
   "metadata": {},
   "outputs": [
    {
     "name": "stdout",
     "output_type": "stream",
     "text": [
      "1 -> 2 4\n",
      "2 -> 3\n",
      "3 -> 4\n"
     ]
    }
   ],
   "source": [
    "g.printgraph()"
   ]
  },
  {
   "cell_type": "markdown",
   "metadata": {},
   "source": [
    "# Graph traversals\n",
    "\n",
    "Graph traversal means visiting every vertex and edge exactly once in a well-defined order. While using certain graph algorithms, you must ensure that each vertex of the graph is visited exactly once. The order in which the vertices are visited are important and may depend upon the algorithm or question that you are solving.\n",
    "\n",
    "During a traversal, it is important that you track which vertices have been visited. The most common way of tracking vertices is to mark them.\n",
    "\n",
    "## Breadth First Search (BFS)\n",
    "\n",
    "There are many ways to traverse graphs. BFS is the most commonly used approach.\n",
    "\n",
    "BFS is a traversing algorithm where you should start traversing from a selected node (source or starting node) and traverse the graph layerwise thus exploring the neighbour nodes (nodes which are directly connected to source node). You must then move towards the next-level neighbour nodes.\n",
    "\n",
    "As the name BFS suggests, you are required to traverse the graph breadthwise as follows:\n",
    "\n",
    "1. First move horizontally and visit all the nodes of the current layer\n",
    "2. Move to the next layer\n",
    "\n",
    "The distance between the nodes in layer 1 is comparitively lesser than the distance between the nodes in layer 2. Therefore, in BFS, you must traverse all the nodes in layer 1 before you move to the nodes in layer 2.\n",
    "\n",
    "\n",
    "A graph can contain cycles, which may bring you to the same node again while traversing the graph. To avoid processing of same node again, use a boolean array which marks the node after it is processed. While visiting the nodes in the layer of a graph, store them in a manner such that you can traverse the corresponding child nodes in a similar order.\n",
    "\n",
    "To make this process easy, use a queue to store the node and mark it as 'visited' until all its neighbours (vertices that are directly connected to it) are marked. The queue follows the First In First Out (FIFO) queuing method, and therefore, the neigbors of the node will be visited in the order in which they were inserted in the node i.e. the node that was inserted first will be visited first, and so on.\n",
    "\n"
   ]
  },
  {
   "cell_type": "code",
   "execution_count": 98,
   "metadata": {},
   "outputs": [],
   "source": [
    "class graph_AdjancencyList():\n",
    "    def __init__(self,l):\n",
    "        self.graph = {}\n",
    "        self.l = l\n",
    "        for i in range(l):\n",
    "            self.graph[i+1] = []\n",
    "    \n",
    "    def addEdge(self, u, v):\n",
    "        \n",
    "        self.graph[u].append(v)\n",
    "            \n",
    "        \n",
    "    def printgraph(self):\n",
    "        for i in self.graph.keys():\n",
    "            print(i,'->',*(self.graph[i]))\n",
    "            #* is just used to print the space separated elements of the list in 1 line without []\n",
    "            \n",
    "    def bfs(self, s):\n",
    "        visited = [False]*self.l\n",
    "        #print(visited)\n",
    "    \n",
    "        queue = []\n",
    "        \n",
    "        #mark starting node as visted True and then enqueue it\n",
    "        visited[s-1] = True\n",
    "        queue.append(s)\n",
    "        #print(queue)\n",
    "        while queue:\n",
    "            start = queue.pop(0)\n",
    "            print(start, end=' ')\n",
    "            #print(self.graph[start])\n",
    "            #Lets work with the adjacent node\n",
    "            for i in self.graph[start]:\n",
    "                #First check if its not visited\n",
    "                if visited[i-1] == False:\n",
    "                    queue.append(i)\n",
    "                    visited[i-1] = True"
   ]
  },
  {
   "cell_type": "code",
   "execution_count": 99,
   "metadata": {},
   "outputs": [],
   "source": [
    "g = graph_AdjancencyList(4)"
   ]
  },
  {
   "cell_type": "code",
   "execution_count": 100,
   "metadata": {},
   "outputs": [],
   "source": [
    "g.addEdge(1,2)\n",
    "g.addEdge(1,3)\n",
    "g.addEdge(1,4)\n",
    "g.addEdge(2,3)\n",
    "g.addEdge(3,2)"
   ]
  },
  {
   "cell_type": "code",
   "execution_count": 101,
   "metadata": {},
   "outputs": [
    {
     "name": "stdout",
     "output_type": "stream",
     "text": [
      "1 -> 2 3 4\n",
      "2 -> 3\n",
      "3 -> 2\n",
      "4 ->\n"
     ]
    }
   ],
   "source": [
    "g.printgraph()"
   ]
  },
  {
   "cell_type": "code",
   "execution_count": 102,
   "metadata": {},
   "outputs": [
    {
     "name": "stdout",
     "output_type": "stream",
     "text": [
      "1 2 3 4 "
     ]
    }
   ],
   "source": [
    "g.bfs(1)"
   ]
  },
  {
   "cell_type": "markdown",
   "metadata": {},
   "source": [
    "# How to find levels in a Graph"
   ]
  },
  {
   "cell_type": "code",
   "execution_count": 99,
   "metadata": {},
   "outputs": [],
   "source": [
    "class graph_AdjancencyList():\n",
    "    def __init__(self,l):\n",
    "        self.graph = {}\n",
    "        self.l = l\n",
    "        for i in range(l):\n",
    "            self.graph[i+1] = []\n",
    "    \n",
    "    def addEdge(self, u, v):\n",
    "        \n",
    "        self.graph[u].append(v)\n",
    "            \n",
    "        \n",
    "    def printgraph(self):\n",
    "        for i in self.graph.keys():\n",
    "            print(i,'->',*(self.graph[i]))\n",
    "            #* is just used to print the space separated elements of the list in 1 line without []\n",
    "            \n",
    "    def level(self, s):\n",
    "        level = [None]*self.l\n",
    "        marked = [False]*self.l\n",
    "        \n",
    "        queue = []\n",
    "        queue.append(s)\n",
    "        \n",
    "        #level of source node is zero\n",
    "        level[s-1] =  0\n",
    "        \n",
    "        #mark it as visited\n",
    "        marked[s-1] = True\n",
    "        \n",
    "        while queue:\n",
    "            x = queue.pop(0)\n",
    "            for i in range(len(self.graph[x])):\n",
    "                \n",
    "                b = self.graph[x][i]\n",
    "                \n",
    "                if not marked[b-1]:\n",
    "                    \n",
    "                    queue.append(b)\n",
    "                    level[b-1] = level[x-1] + 1\n",
    "                    marked[b-1] = True\n",
    "                    \n",
    "        print(*level)"
   ]
  },
  {
   "cell_type": "code",
   "execution_count": 100,
   "metadata": {},
   "outputs": [],
   "source": [
    "g = graph_AdjancencyList(5)"
   ]
  },
  {
   "cell_type": "code",
   "execution_count": 101,
   "metadata": {},
   "outputs": [],
   "source": [
    "g.addEdge(1,2)\n",
    "g.addEdge(1,3)\n",
    "g.addEdge(2,4)\n",
    "g.addEdge(3,5)"
   ]
  },
  {
   "cell_type": "code",
   "execution_count": 102,
   "metadata": {},
   "outputs": [
    {
     "name": "stdout",
     "output_type": "stream",
     "text": [
      "1 -> 2 3\n",
      "2 -> 4\n",
      "3 -> 5\n",
      "4 ->\n",
      "5 ->\n"
     ]
    }
   ],
   "source": [
    "g.printgraph()"
   ]
  },
  {
   "cell_type": "code",
   "execution_count": 104,
   "metadata": {},
   "outputs": [
    {
     "name": "stdout",
     "output_type": "stream",
     "text": [
      "0 1 1 2 2\n"
     ]
    }
   ],
   "source": [
    "see = g.level(1)"
   ]
  },
  {
   "cell_type": "markdown",
   "metadata": {},
   "source": [
    "# Cheers !"
   ]
  }
 ],
 "metadata": {
  "kernelspec": {
   "display_name": "Python 3",
   "language": "python",
   "name": "python3"
  },
  "language_info": {
   "codemirror_mode": {
    "name": "ipython",
    "version": 3
   },
   "file_extension": ".py",
   "mimetype": "text/x-python",
   "name": "python",
   "nbconvert_exporter": "python",
   "pygments_lexer": "ipython3",
   "version": "3.7.3"
  }
 },
 "nbformat": 4,
 "nbformat_minor": 2
}
