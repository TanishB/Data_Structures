{
 "cells": [
  {
   "cell_type": "code",
   "execution_count": 35,
   "metadata": {},
   "outputs": [],
   "source": [
    "class node:\n",
    "    def __init__(self,data):\n",
    "        self.data = data\n",
    "        self.next = None\n",
    "class stack:\n",
    "    def __init__(self):\n",
    "        self.head = None\n",
    "        \n",
    "    def push(self,data):\n",
    "        new = node(data)\n",
    "        if self.head == None:\n",
    "            self.head = new\n",
    "        else:\n",
    "            new.next = self.head\n",
    "            self.head = new\n",
    "        \n",
    "    \n",
    "    def pop(self):\n",
    "        if not self.head:\n",
    "            print('UnderFlow')\n",
    "        else:\n",
    "            current = self.head\n",
    "            self.head = self.head.next\n",
    "            return current.data\n",
    "            \n",
    "    def display(self):\n",
    "        current = self.head\n",
    "        while current:\n",
    "            print(current.data,'->',end=' ')\n",
    "            current=current.next"
   ]
  },
  {
   "cell_type": "code",
   "execution_count": 36,
   "metadata": {},
   "outputs": [],
   "source": [
    "myStack = stack()"
   ]
  },
  {
   "cell_type": "code",
   "execution_count": 37,
   "metadata": {},
   "outputs": [
    {
     "name": "stdout",
     "output_type": "stream",
     "text": [
      "5\n"
     ]
    }
   ],
   "source": [
    "t = int(input())"
   ]
  },
  {
   "cell_type": "code",
   "execution_count": 38,
   "metadata": {},
   "outputs": [
    {
     "name": "stdout",
     "output_type": "stream",
     "text": [
      "1\n",
      "2\n",
      "3\n",
      "4\n",
      "5\n"
     ]
    }
   ],
   "source": [
    "for i in range(t):\n",
    "    data = int(input())\n",
    "    myStack.push(data)\n",
    "    #myStack.display()"
   ]
  },
  {
   "cell_type": "code",
   "execution_count": 39,
   "metadata": {},
   "outputs": [
    {
     "name": "stdout",
     "output_type": "stream",
     "text": [
      "5 -> 4 -> 3 -> 2 -> 1 -> "
     ]
    }
   ],
   "source": [
    "myStack.display()"
   ]
  },
  {
   "cell_type": "code",
   "execution_count": 40,
   "metadata": {},
   "outputs": [],
   "source": [
    "popped = myStack.pop()"
   ]
  },
  {
   "cell_type": "code",
   "execution_count": 41,
   "metadata": {},
   "outputs": [
    {
     "data": {
      "text/plain": [
       "5"
      ]
     },
     "execution_count": 41,
     "metadata": {},
     "output_type": "execute_result"
    }
   ],
   "source": [
    "popped"
   ]
  },
  {
   "cell_type": "code",
   "execution_count": 43,
   "metadata": {},
   "outputs": [
    {
     "name": "stdout",
     "output_type": "stream",
     "text": [
      "4 -> 3 -> 2 -> 1 -> "
     ]
    }
   ],
   "source": [
    "myStack.display()"
   ]
  },
  {
   "cell_type": "markdown",
   "metadata": {},
   "source": [
    "# Cheers!"
   ]
  },
  {
   "cell_type": "code",
   "execution_count": 54,
   "metadata": {},
   "outputs": [
    {
     "name": "stdout",
     "output_type": "stream",
     "text": [
      "-1 -2 -3 1 2 30\n"
     ]
    }
   ],
   "source": [
    "array = list(int(i) for i in input().split(' '))"
   ]
  },
  {
   "cell_type": "code",
   "execution_count": 55,
   "metadata": {},
   "outputs": [
    {
     "data": {
      "text/plain": [
       "[-1, -2, -3, 1, 2, 30]"
      ]
     },
     "execution_count": 55,
     "metadata": {},
     "output_type": "execute_result"
    }
   ],
   "source": [
    "array"
   ]
  },
  {
   "cell_type": "code",
   "execution_count": 56,
   "metadata": {},
   "outputs": [
    {
     "name": "stdout",
     "output_type": "stream",
     "text": [
      "[-3, 1, 2]\n"
     ]
    }
   ],
   "source": [
    "total = 0\n",
    "for i in range(len(array)):\n",
    "    total = 0\n",
    "    total += array[i]\n",
    "    for j in range(i+1,len(array)):\n",
    "        total += array[j]\n",
    "        if total == 0:\n",
    "            print(array[i:j+1])"
   ]
  },
  {
   "cell_type": "code",
   "execution_count": 51,
   "metadata": {},
   "outputs": [
    {
     "data": {
      "text/plain": [
       "29"
      ]
     },
     "execution_count": 51,
     "metadata": {},
     "output_type": "execute_result"
    }
   ],
   "source": [
    "total"
   ]
  },
  {
   "cell_type": "code",
   "execution_count": 57,
   "metadata": {},
   "outputs": [
    {
     "name": "stdout",
     "output_type": "stream",
     "text": [
      "-1 -2 -3 1 2 30\n",
      "[-3, 1, 2]\n"
     ]
    }
   ],
   "source": [
    "#Taking Input\n",
    "array = list(int(i) for i in input().split(' '))\n",
    "\n",
    "total = 0\n",
    "for i in range(len(array)):\n",
    "    total = 0\n",
    "    total += array[i]\n",
    "    for j in range(i+1,len(array)):\n",
    "        total += array[j]\n",
    "        if total == 0:\n",
    "            #printing the subset having sum equal to zero\n",
    "            print(array[i:j+1])"
   ]
  },
  {
   "cell_type": "code",
   "execution_count": 72,
   "metadata": {},
   "outputs": [
    {
     "name": "stdout",
     "output_type": "stream",
     "text": [
      "1 4 5 7 15 17 21 23 27 40 44 55\n"
     ]
    }
   ],
   "source": [
    "array = list(int(i) for i in input().split(' '))"
   ]
  },
  {
   "cell_type": "code",
   "execution_count": 73,
   "metadata": {},
   "outputs": [
    {
     "name": "stdout",
     "output_type": "stream",
     "text": [
      "32\n"
     ]
    }
   ],
   "source": [
    "n = int(input())"
   ]
  },
  {
   "cell_type": "code",
   "execution_count": 74,
   "metadata": {},
   "outputs": [
    {
     "data": {
      "text/plain": [
       "[1, 4, 5, 7, 15, 17, 21, 23, 27, 40, 44, 55]"
      ]
     },
     "execution_count": 74,
     "metadata": {},
     "output_type": "execute_result"
    }
   ],
   "source": [
    "array"
   ]
  },
  {
   "cell_type": "code",
   "execution_count": 75,
   "metadata": {},
   "outputs": [],
   "source": [
    "a = []\n",
    "for i in range(len(array)):\n",
    "    diff = abs(array[i]-n)\n",
    "    a.append([diff,array[i]])"
   ]
  },
  {
   "cell_type": "code",
   "execution_count": 76,
   "metadata": {},
   "outputs": [
    {
     "data": {
      "text/plain": [
       "[[31, 1],\n",
       " [28, 4],\n",
       " [27, 5],\n",
       " [25, 7],\n",
       " [17, 15],\n",
       " [15, 17],\n",
       " [11, 21],\n",
       " [9, 23],\n",
       " [5, 27],\n",
       " [8, 40],\n",
       " [12, 44],\n",
       " [23, 55]]"
      ]
     },
     "execution_count": 76,
     "metadata": {},
     "output_type": "execute_result"
    }
   ],
   "source": [
    "a"
   ]
  },
  {
   "cell_type": "code",
   "execution_count": 78,
   "metadata": {},
   "outputs": [],
   "source": [
    "a = sorted(a)"
   ]
  },
  {
   "cell_type": "code",
   "execution_count": 80,
   "metadata": {},
   "outputs": [
    {
     "name": "stdout",
     "output_type": "stream",
     "text": [
      "27\n",
      "40\n",
      "23\n",
      "21\n",
      "44\n"
     ]
    }
   ],
   "source": [
    "for i in range(5):\n",
    "    print(a[i][1])"
   ]
  },
  {
   "cell_type": "code",
   "execution_count": 81,
   "metadata": {},
   "outputs": [
    {
     "name": "stdout",
     "output_type": "stream",
     "text": [
      "1 4 5 7 15 17 21 23 27 40 44 55\n",
      "0\n",
      "1 4 5 7 15 "
     ]
    }
   ],
   "source": [
    "#Taking input array\n",
    "array = list(int(i) for i in input().split(' '))\n",
    "#Taking input of n\n",
    "n = int(input())\n",
    "\n",
    "a = []\n",
    "for i in range(len(array)):\n",
    "    diff = abs(array[i]-n)\n",
    "    a.append([diff,array[i]])\n",
    "#Made a new list with each element as a list of array's element along with its differnce with n   \n",
    "#now sorting the list according to diff\n",
    "a = sorted(a)\n",
    "#Printing the first 5 values of sorted list\n",
    "for i in range(5):\n",
    "    print(a[i][1],end=' ')"
   ]
  },
  {
   "cell_type": "code",
   "execution_count": 103,
   "metadata": {},
   "outputs": [
    {
     "name": "stdout",
     "output_type": "stream",
     "text": [
      "CAGGGTACCTTACTACGACGAGCT\n",
      "GCTGTAGGGTACCTTACTACGAAA\n"
     ]
    }
   ],
   "source": [
    "firstDNA = input()\n",
    "secondDNA = input()"
   ]
  },
  {
   "cell_type": "code",
   "execution_count": 104,
   "metadata": {},
   "outputs": [],
   "source": [
    "d = firstDNA\n",
    "dna = secondDNA"
   ]
  },
  {
   "cell_type": "code",
   "execution_count": 91,
   "metadata": {},
   "outputs": [],
   "source": [
    "if len(firstDNA)<len(secondDNA):\n",
    "    d = firstDNA\n",
    "    dna = secondDNA\n",
    "else:\n",
    "    d = secondDNA\n",
    "    dna = firstDNA"
   ]
  },
  {
   "cell_type": "code",
   "execution_count": 98,
   "metadata": {},
   "outputs": [
    {
     "data": {
      "text/plain": [
       "True"
      ]
     },
     "execution_count": 98,
     "metadata": {},
     "output_type": "execute_result"
    }
   ],
   "source": [
    "d[0:1] in dna"
   ]
  },
  {
   "cell_type": "code",
   "execution_count": 105,
   "metadata": {},
   "outputs": [],
   "source": [
    "maxi = 0\n",
    "for i in range(len(d)):\n",
    "    for j in range(len(d)+1):\n",
    "        \n",
    "        if d[i:j] in dna:\n",
    "            if len(d[i:j])>maxi:\n",
    "                maxi = len(d[i:j])"
   ]
  },
  {
   "cell_type": "code",
   "execution_count": 106,
   "metadata": {},
   "outputs": [
    {
     "data": {
      "text/plain": [
       "17"
      ]
     },
     "execution_count": 106,
     "metadata": {},
     "output_type": "execute_result"
    }
   ],
   "source": [
    "maxi"
   ]
  },
  {
   "cell_type": "code",
   "execution_count": 107,
   "metadata": {},
   "outputs": [
    {
     "name": "stdout",
     "output_type": "stream",
     "text": [
      "17 out of 24 consecutive characters matching\n"
     ]
    }
   ],
   "source": [
    "print('{} out of {} consecutive characters matching'.format(maxi,len(d)))"
   ]
  },
  {
   "cell_type": "code",
   "execution_count": 108,
   "metadata": {},
   "outputs": [],
   "source": [
    "a='a'"
   ]
  },
  {
   "cell_type": "code",
   "execution_count": 109,
   "metadata": {},
   "outputs": [
    {
     "data": {
      "text/plain": [
       "1"
      ]
     },
     "execution_count": 109,
     "metadata": {},
     "output_type": "execute_result"
    }
   ],
   "source": [
    "len(a)"
   ]
  },
  {
   "cell_type": "code",
   "execution_count": 110,
   "metadata": {},
   "outputs": [
    {
     "name": "stdout",
     "output_type": "stream",
     "text": [
      "AAAAAAGGGTACCCTTTTAGCTAG\n",
      "GCTGTAGGGTACCTTACTACGAAA\n",
      "8 out of 24 consecutive characters matching\n"
     ]
    }
   ],
   "source": [
    "#taking Input\n",
    "firstDNA = input()\n",
    "secondDNA = input()\n",
    "\n",
    "d = firstDNA\n",
    "dna = secondDNA\n",
    "\n",
    "maxi = 0#it will store the max consecutive characters length\n",
    "for i in range(len(d)):\n",
    "    for j in range(len(d)+1):\n",
    "        \n",
    "        if d[i:j] in dna:\n",
    "            if len(d[i:j])>maxi:\n",
    "                maxi = len(d[i:j])\n",
    "                \n",
    "print('{} out of {} consecutive characters matching'.format(maxi,len(d)))"
   ]
  },
  {
   "cell_type": "code",
   "execution_count": null,
   "metadata": {},
   "outputs": [],
   "source": []
  }
 ],
 "metadata": {
  "kernelspec": {
   "display_name": "Python 3",
   "language": "python",
   "name": "python3"
  },
  "language_info": {
   "codemirror_mode": {
    "name": "ipython",
    "version": 3
   },
   "file_extension": ".py",
   "mimetype": "text/x-python",
   "name": "python",
   "nbconvert_exporter": "python",
   "pygments_lexer": "ipython3",
   "version": "3.7.3"
  }
 },
 "nbformat": 4,
 "nbformat_minor": 2
}
